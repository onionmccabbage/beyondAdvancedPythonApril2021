{
 "cells": [
  {
   "cell_type": "code",
   "execution_count": 20,
   "metadata": {
    "scrolled": false
   },
   "outputs": [
    {
     "name": "stdout",
     "output_type": "stream",
     "text": [
      "int32\n",
      "[[1 2]\n",
      " [3 4]\n",
      " [5 6]]\n",
      "[[1 4]\n",
      " [2 5]\n",
      " [3 6]]\n",
      "[[14 32]\n",
      " [32 77]]\n"
     ]
    }
   ],
   "source": [
    "# Numpy - numeric python\n",
    "import numpy as np\n",
    "\n",
    "# arrays\n",
    "\n",
    "p = np.array([1,2,3,4])\n",
    "\n",
    "print(p.dtype) # data type of the members of this structure\n",
    "type(p) # data type of this array\n",
    "\n",
    "b = np.array([[1,2,3],\n",
    "              [4,5,6],\n",
    "              [7,8,9]]) # looks like a matrix\n",
    "\n",
    "b[-1]\n",
    "\n",
    "# array adjustments\n",
    "c = np.array([[1,2,3],\n",
    "              [4,5,6]])\n",
    "print (c.reshape(3,2))\n",
    "\n",
    "# transform\n",
    "print(c.T)\n",
    "\n",
    "# dot\n",
    "print(np.dot(c,c.T))"
   ]
  },
  {
   "cell_type": "code",
   "execution_count": 89,
   "metadata": {},
   "outputs": [
    {
     "name": "stdout",
     "output_type": "stream",
     "text": [
      "3\n",
      "[7 1 8 5 0 2 6 3 4 9]\n"
     ]
    }
   ],
   "source": [
    "# random numbers\n",
    "np.random.seed(20)\n",
    "print(np.random.randint(5))\n",
    "\n",
    "# arange\n",
    "\n",
    "r = np.arange(10)\n",
    "np.random.shuffle(r)\n",
    "print(r)"
   ]
  },
  {
   "cell_type": "code",
   "execution_count": 99,
   "metadata": {},
   "outputs": [
    {
     "name": "stdout",
     "output_type": "stream",
     "text": [
      "[7. 1. 8. 5. 0. 2. 6. 3. 4. 9.]\n"
     ]
    }
   ],
   "source": [
    "# saving and loading data\n",
    "np.save('my_numpy_structure.npy', r )\n",
    "np.savetxt('my_numpy_structure.txt', r, delimiter=',' )\n",
    "\n",
    "d = np.loadtxt('my_numpy_structure.txt')\n",
    "\n",
    "print(d)\n"
   ]
  },
  {
   "cell_type": "code",
   "execution_count": 102,
   "metadata": {},
   "outputs": [
    {
     "name": "stdout",
     "output_type": "stream",
     "text": [
      "[-0.1111635 +1.57564872j -0.1111635 -1.57564872j 11.22232699+0.j        ] [[-0.09815679+0.27262295j -0.09815679-0.27262295j  0.57642041+0.j        ]\n",
      " [ 0.76830893+0.j          0.76830893-0.j          0.45911115+0.j        ]\n",
      " [-0.56562092-0.07626488j -0.56562092+0.07626488j  0.67598555+0.j        ]]\n"
     ]
    },
    {
     "data": {
      "text/plain": [
       "array([[-1.77635684e-16],\n",
       "       [ 2.50000000e+00],\n",
       "       [-1.50000000e+00]])"
      ]
     },
     "execution_count": 102,
     "metadata": {},
     "output_type": "execute_result"
    }
   ],
   "source": [
    "# linear algebra\n",
    "l = np.array([[1,4,6],\n",
    "              [5,2,2],\n",
    "              [-1,6,8]])\n",
    "\n",
    "w, v = np.linalg.eig(l)\n",
    "print (w,v)\n",
    "\n",
    "n = np.array([[1],[2],[3]])\n",
    "\n",
    "x = np.linalg.solve(l,n)\n",
    "x"
   ]
  }
 ],
 "metadata": {
  "kernelspec": {
   "display_name": "Python 3",
   "language": "python",
   "name": "python3"
  },
  "language_info": {
   "codemirror_mode": {
    "name": "ipython",
    "version": 3
   },
   "file_extension": ".py",
   "mimetype": "text/x-python",
   "name": "python",
   "nbconvert_exporter": "python",
   "pygments_lexer": "ipython3",
   "version": "3.8.5"
  }
 },
 "nbformat": 4,
 "nbformat_minor": 2
}
