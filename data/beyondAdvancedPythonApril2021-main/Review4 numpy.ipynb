{
 "cells": [
  {
   "cell_type": "markdown",
   "metadata": {},
   "source": [
    "### Exercies from the fourth Reivew Exercise, concerning NumPy"
   ]
  },
  {
   "cell_type": "markdown",
   "metadata": {},
   "source": [
    "These exercises range from dead simple to rather complex. Each has code examples to get you going\n",
    "(often they include a complete solution, but the idea is for you to experiement)\n",
    "\n",
    "Begin a new Jupyter notebook (or a new Python module if you prefer) and write your code in that"
   ]
  },
  {
   "cell_type": "code",
   "execution_count": 10,
   "metadata": {},
   "outputs": [],
   "source": [
    "import numpy as np\n",
    "import matplotlib.pyplot as plt"
   ]
  },
  {
   "cell_type": "markdown",
   "metadata": {},
   "source": [
    "Compute the mean standard deviation and variance of a given array"
   ]
  },
  {
   "cell_type": "code",
   "execution_count": 5,
   "metadata": {},
   "outputs": [
    {
     "data": {
      "text/plain": [
       "(2.5, 1.707825127659933, 2.9166666666666665)"
      ]
     },
     "execution_count": 5,
     "metadata": {},
     "output_type": "execute_result"
    }
   ],
   "source": [
    "x = np.arange(6)\n",
    "m = np.mean(x) # compare with np.average(x)\n",
    "s = np.std(x)\n",
    "r= np.var(x)\n",
    "m,s,r"
   ]
  },
  {
   "cell_type": "markdown",
   "metadata": {},
   "source": [
    "Compute cross-correlation of two given arrays (use np.cov)"
   ]
  },
  {
   "cell_type": "code",
   "execution_count": 6,
   "metadata": {},
   "outputs": [
    {
     "data": {
      "text/plain": [
       "array([[2.33333333, 2.16666667],\n",
       "       [2.16666667, 2.33333333]])"
      ]
     },
     "execution_count": 6,
     "metadata": {},
     "output_type": "execute_result"
    }
   ],
   "source": [
    "x = np.array([0, 1, 3])\n",
    "y = np.array([2, 4, 5])\n",
    "np.cov(x, y)"
   ]
  },
  {
   "cell_type": "markdown",
   "metadata": {},
   "source": [
    "Count the number of occurrences of each value in a given array of non-negative integers\n",
    "\n",
    "(use np.bincount)"
   ]
  },
  {
   "cell_type": "code",
   "execution_count": 7,
   "metadata": {},
   "outputs": [
    {
     "data": {
      "text/plain": [
       "array([1, 3, 2, 0, 1, 0, 1, 1], dtype=int64)"
      ]
     },
     "execution_count": 7,
     "metadata": {},
     "output_type": "execute_result"
    }
   ],
   "source": [
    "array1 = [0, 1, 6, 1, 4, 1, 2, 2, 7]\n",
    "np.bincount(array1)"
   ]
  },
  {
   "cell_type": "markdown",
   "metadata": {},
   "source": [
    "Compute and display the histogram of numbers against a set of 'bins'\n",
    "\n",
    "(explore with more complex data than shown here)"
   ]
  },
  {
   "cell_type": "code",
   "execution_count": 11,
   "metadata": {},
   "outputs": [
    {
     "data": {
      "image/png": "[encoded data removed]",
      "text/plain": [
       "<Figure size 432x288 with 1 Axes>"
      ]
     },
     "metadata": {
      "needs_background": "light"
     },
     "output_type": "display_data"
    }
   ],
   "source": [
    "nums = np.array([0.5, 0.7, 1.0, 1.2, 1.3, 2.1])\n",
    "bins = np.array([0, 1, 2, 3])\n",
    "plt.hist(nums, bins=bins)\n",
    "plt.show()"
   ]
  },
  {
   "cell_type": "markdown",
   "metadata": {},
   "source": [
    "Create a 3×6 numpy array of boolean 'True' values, then transpose it"
   ]
  },
  {
   "cell_type": "code",
   "execution_count": 27,
   "metadata": {},
   "outputs": [
    {
     "data": {
      "text/plain": [
       "array([[ True,  True,  True,  True,  True,  True],\n",
       "       [ True,  True,  True,  True,  True,  True],\n",
       "       [ True,  True,  True,  True,  True,  True]])"
      ]
     },
     "execution_count": 27,
     "metadata": {},
     "output_type": "execute_result"
    }
   ],
   "source": [
    "t1 = np.arange(18)\n",
    "t2 = t1.reshape(3,6)\n",
    "t3 = t2!=99\n",
    "t3"
   ]
  },
  {
   "cell_type": "markdown",
   "metadata": {},
   "source": [
    "Create an array of the integers 1 to 1000, then populate another array from the even numbers that\n",
    "exist in the first array. "
   ]
  },
  {
   "cell_type": "code",
   "execution_count": 58,
   "metadata": {},
   "outputs": [],
   "source": [
    "arr = np.arange(1000)\n",
    "evens = arr[2:999:2]\n",
    "evens"
   ]
  },
  {
   "cell_type": "markdown",
   "metadata": {},
   "source": [
    "Populate another array with just the primes from the first array. Time this\n",
    "operation and aim for very large sets of data"
   ]
  },
  {
   "cell_type": "code",
   "execution_count": 59,
   "metadata": {},
   "outputs": [],
   "source": [
    "import math\n",
    "# with thanks to https://rebrained.com/?p=458\n",
    "def prime(upto=100000):\n",
    "    primes=[2]\n",
    "    for num in range(3,upto+1,2):\n",
    "        isprime=True\n",
    "        for factor in range(3,1+int(math.sqrt(num)),2):\n",
    "             if not num % factor: isprime=False; break\n",
    "        if isprime: primes.append(num)\n",
    "    return primes\n",
    "\n",
    "%time prime(1000000) # 1.75 sec on my machine"
   ]
  },
  {
   "cell_type": "markdown",
   "metadata": {},
   "source": [
    "Make an array that contains the positions where elements of a and b match"
   ]
  },
  {
   "cell_type": "code",
   "execution_count": 31,
   "metadata": {},
   "outputs": [
    {
     "data": {
      "text/plain": [
       "(array([1, 3, 5, 7], dtype=int64),)"
      ]
     },
     "execution_count": 31,
     "metadata": {},
     "output_type": "execute_result"
    }
   ],
   "source": [
    "a = np.array([1,2,3,2,3,4,3,4,5,6])\n",
    "b = np.array([7,2,10,2,7,4,9,4,9,8])\n",
    "matching = np.where(a == b)\n",
    "matching"
   ]
  },
  {
   "cell_type": "markdown",
   "metadata": {},
   "source": [
    "Use zip to combine all the following Irish places with their country or origin (ie)\n",
    "(You don't need numpy but you could generate a numpy array of the results)"
   ]
  },
  {
   "cell_type": "code",
   "execution_count": 44,
   "metadata": {},
   "outputs": [],
   "source": [
    "cities = [\"Dublin\",\"Cork\",\"Limerick\",\"Galway\",\"Waterford\",\"Drogheda\",\"Kilkenny\",\"Wexford\",\"Sligo\",\"Clonmel\",\"Dundalk\",\"Bray\",\"Ennis\",\"Tralee\",\"Carlow\",\"Naas\",\"Athlone\",\"Letterkenny\",\"Tullamore\",\"Killarney\",\"Arklow\",\"Cobh\",\"Castlebar\",\"Midleton\",\"Mallow\",\"Ballina\",\"Enniscorthy\",\"Wicklow\",\"Cavan\",\"Athenry\",\"Longford\",\"Dungarvan\",\"Nenagh\",\"Trim\",\"Thurles\",\"Youghal\",\"Monaghan\",\"Buncrana\",\"Ballinasloe\",\"Fermoy\",\"Westport\",\"Carrick-on-Suir\",\"Birr\",\"Tipperary\",\"Carrickmacross\",\"Kinsale\",\"Listowel\",\"Clonakilty\",\"Cashel\",\"Macroom\",\"Castleblayney\",\"Kilrush\",\"Skibbereen\",\"Bundoran\",\"Templemore\",\"Clones\",\"Newbridge\",\"Mullingar\",\"Balbriggan\",\"Greystones\",\"Leixlip\",\"Tramore\",\"Shannon\",\"Gorey\",\"Tuam\",\"Edenderry\",\"Bandon\",\"Loughrea\",\"Ardee\",\"Mountmellick\",\"Bantry\",\"Boyle\",\"Ballyshannon\",\"Cootehill\",\"Ballybay\",\"Belturbet\",\"Lismore\",\"Kilkee\",\"Granard\"]\n",
    "len(cities)\n",
    "countries = np.arange(len(cities))\n",
    "countries = ['ie' for country in countries]\n",
    "combined = zip(cities, countries)\n",
    "list(combined)"
   ]
  },
  {
   "cell_type": "markdown",
   "metadata": {},
   "source": [
    "Find the missing values in a numpy array loaded from the internet\n",
    "Also show the position of those missing values"
   ]
  },
  {
   "cell_type": "code",
   "execution_count": 46,
   "metadata": {},
   "outputs": [
    {
     "data": {
      "text/plain": [
       "(array([ 24,  36,  63,  83,  85,  90, 136], dtype=int64),)"
      ]
     },
     "execution_count": 46,
     "metadata": {},
     "output_type": "execute_result"
    }
   ],
   "source": [
    "url = 'https://archive.ics.uci.edu/ml/machine-learning-databases/iris/iris.data'\n",
    "iris_2d = np.genfromtxt(url, delimiter=',', dtype='float')\n",
    "iris_2d[np.random.randint(150, size=20), np.random.randint(4, size=20)] = np.nan\n",
    "np.isnan(iris_2d[:, 0]).sum()\n",
    "np.where(np.isnan(iris_2d[:, 0]))"
   ]
  },
  {
   "cell_type": "markdown",
   "metadata": {},
   "source": [
    "Filter the rows of iris_2d that has petallength (3rd column) > 1.5 and sepallength (1st column) < 5.0"
   ]
  },
  {
   "cell_type": "code",
   "execution_count": 47,
   "metadata": {},
   "outputs": [
    {
     "data": {
      "text/plain": [
       "array([[4.8, 3.4, 1.6, 0.2],\n",
       "       [4.8, 3.4, 1.9, 0.2],\n",
       "       [4.7, 3.2, 1.6, 0.2],\n",
       "       [4.8, 3.1, 1.6, 0.2],\n",
       "       [4.9, 2.4, 3.3, 1. ],\n",
       "       [4.9, 2.5, 4.5, 1.7]])"
      ]
     },
     "execution_count": 47,
     "metadata": {},
     "output_type": "execute_result"
    }
   ],
   "source": [
    "url = 'https://archive.ics.uci.edu/ml/machine-learning-databases/iris/iris.data'\n",
    "iris_2d = np.genfromtxt(url, delimiter=',', dtype='float', usecols=[0,1,2,3])\n",
    "condition = (iris_2d[:, 2] > 1.5) & (iris_2d[:, 0] < 5.0)\n",
    "iris_2d[condition]"
   ]
  },
  {
   "cell_type": "markdown",
   "metadata": {},
   "source": [
    "Find any rows that contain a missing value from iris_2d and drop them from the array"
   ]
  },
  {
   "cell_type": "code",
   "execution_count": 48,
   "metadata": {},
   "outputs": [
    {
     "data": {
      "text/plain": [
       "array([[5.1, 3.5, 1.4, 0.2],\n",
       "       [4.9, 3. , 1.4, 0.2],\n",
       "       [4.7, 3.2, 1.3, 0.2],\n",
       "       [4.6, 3.1, 1.5, 0.2],\n",
       "       [5. , 3.6, 1.4, 0.2]])"
      ]
     },
     "execution_count": 48,
     "metadata": {},
     "output_type": "execute_result"
    }
   ],
   "source": [
    "url = 'https://archive.ics.uci.edu/ml/machine-learning-databases/iris/iris.data'\n",
    "iris_2d = np.genfromtxt(url, delimiter=',', dtype='float', usecols=[0,1,2,3])\n",
    "iris_2d[np.random.randint(150, size=20), np.random.randint(4, size=20)] = np.nan\n",
    "# There is no direct numpy function...\n",
    "any_nan_in_row = np.array([~np.any(np.isnan(row)) for row in iris_2d])\n",
    "iris_2d[any_nan_in_row][:5]\n",
    "# alternatively\n",
    "iris_2d[np.sum(np.isnan(iris_2d), axis = 1) == 0][:5]"
   ]
  },
  {
   "cell_type": "markdown",
   "metadata": {},
   "source": [
    "Find the correlation between SepalLength(1st column) and PetalLength(3rd column) in iris_2d"
   ]
  },
  {
   "cell_type": "code",
   "execution_count": 49,
   "metadata": {},
   "outputs": [
    {
     "data": {
      "text/plain": [
       "0.8717541573048718"
      ]
     },
     "execution_count": 49,
     "metadata": {},
     "output_type": "execute_result"
    }
   ],
   "source": [
    "# Correlation coef indicates the degree of linear relationship between two numeric variables.\n",
    "# It can range between -1 to +1.\n",
    "url = 'https://archive.ics.uci.edu/ml/machine-learning-databases/iris/iris.data'\n",
    "iris = np.genfromtxt(url, delimiter=',', dtype='float', usecols=[0,1,2,3])\n",
    "np.corrcoef(iris[:, 0], iris[:, 2])[0, 1]"
   ]
  }
 ],
 "metadata": {
  "kernelspec": {
   "display_name": "Python 3",
   "language": "python",
   "name": "python3"
  },
  "language_info": {
   "codemirror_mode": {
    "name": "ipython",
    "version": 3
   },
   "file_extension": ".py",
   "mimetype": "text/x-python",
   "name": "python",
   "nbconvert_exporter": "python",
   "pygments_lexer": "ipython3",
   "version": "3.8.5"
  }
 },
 "nbformat": 4,
 "nbformat_minor": 4
}
